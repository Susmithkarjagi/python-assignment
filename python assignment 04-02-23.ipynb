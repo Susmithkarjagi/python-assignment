{
 "cells": [
  {
   "cell_type": "markdown",
   "id": "5b8250c2-ff39-48fa-8f68-8f4cfc4f0bdf",
   "metadata": {},
   "source": [
    "Q1. Create a python program to sort the given list of tuples based on integer value using a\n",
    "lambda function.\n",
    "[('Sachin Tendulkar', 34357), ('Ricky Ponting', 27483), ('Jack Kallis', 25534), ('Virat Kohli', 24936)]"
   ]
  },
  {
   "cell_type": "markdown",
   "id": "43d09e59-3c22-400a-917c-f2cf09e0205d",
   "metadata": {},
   "source": [
    "#ANSWER 1"
   ]
  },
  {
   "cell_type": "code",
   "execution_count": 28,
   "id": "e0ab3b94-f4ce-4110-8856-6d46bf5b9d1f",
   "metadata": {},
   "outputs": [],
   "source": [
    "l=[('Sachin Tendulkar', 34357), ('Ricky Ponting', 27483), ('Jack Kallis', 25534), ('Virat Kohli', 24936)]"
   ]
  },
  {
   "cell_type": "code",
   "execution_count": 4,
   "id": "d0ac6218-6db9-4ec2-8698-f4a93769bb34",
   "metadata": {},
   "outputs": [
    {
     "name": "stdout",
     "output_type": "stream",
     "text": [
      "sorted list of tuples [('Virat Kohli', 24936), ('Jack Kallis', 25534), ('Ricky Ponting', 27483), ('Sachin Tendulkar', 34357)]\n"
     ]
    }
   ],
   "source": [
    "sorted_list=sorted(l, key=lambda x : x[1])\n",
    "print(\"sorted list of tuples\",sorted_list)"
   ]
  },
  {
   "cell_type": "markdown",
   "id": "28d3fd52-ef6f-408d-a898-a5fd56316406",
   "metadata": {},
   "source": [
    "Q2. Write a Python Program to find the squares of all the numbers in the given list of integers using\n",
    "lambda and map functions.\n",
    "[1, 2, 3, 4, 5, 6, 7, 8, 9, 10]"
   ]
  },
  {
   "cell_type": "markdown",
   "id": "ad93b2ce-0283-45e6-a52e-2b6fa4f93090",
   "metadata": {},
   "source": [
    "#ANSWER 2"
   ]
  },
  {
   "cell_type": "code",
   "execution_count": 6,
   "id": "88ea5583-887a-4874-a6c6-d1ecf0f47ab6",
   "metadata": {},
   "outputs": [],
   "source": [
    "l1=[1,2,3,4,5,6,7,8,9,10]"
   ]
  },
  {
   "cell_type": "code",
   "execution_count": 10,
   "id": "749d872b-08b7-4b67-ab0c-8349b1590732",
   "metadata": {},
   "outputs": [
    {
     "data": {
      "text/plain": [
       "[1, 4, 9, 16, 25, 36, 49, 64, 81, 100]"
      ]
     },
     "execution_count": 10,
     "metadata": {},
     "output_type": "execute_result"
    }
   ],
   "source": [
    "list(map(lambda x:x**2,l1))"
   ]
  },
  {
   "cell_type": "markdown",
   "id": "936336da-7858-4318-b341-9850887a2d2a",
   "metadata": {},
   "source": [
    "Q3. Write a python program to convert the given list of integers into a tuple of strings. Use map and\n",
    "lambda functions\n",
    "Given String: [1, 2, 3, 4, 5, 6, 7, 8, 9, 10]"
   ]
  },
  {
   "cell_type": "markdown",
   "id": "51c9bfad-2677-4ae9-bc58-820b103d48d1",
   "metadata": {},
   "source": [
    "#ANSWER 3"
   ]
  },
  {
   "cell_type": "code",
   "execution_count": 14,
   "id": "ecdd19e9-bdd5-4e24-acd2-3b30c73eedb6",
   "metadata": {},
   "outputs": [],
   "source": [
    "L2=[1, 2, 3, 4, 5, 6, 7, 8, 9, 10]"
   ]
  },
  {
   "cell_type": "code",
   "execution_count": 18,
   "id": "a456b608-f3e1-460d-a079-61f9b0e62bcd",
   "metadata": {},
   "outputs": [
    {
     "data": {
      "text/plain": [
       "['1', '2', '3', '4', '5', '6', '7', '8', '9', '10']"
      ]
     },
     "execution_count": 18,
     "metadata": {},
     "output_type": "execute_result"
    }
   ],
   "source": [
    "list(map(lambda x:str(x),L2))"
   ]
  },
  {
   "cell_type": "markdown",
   "id": "309e36ec-2dd1-4ca4-96c1-e3b3de510744",
   "metadata": {},
   "source": [
    "Q4. Write a python program using reduce function to compute the product of a list containing numbers\n",
    "from 1 to 25."
   ]
  },
  {
   "cell_type": "markdown",
   "id": "4b988c31-679d-4b69-9dc5-ba90a848247f",
   "metadata": {},
   "source": [
    "#ANSWER 4"
   ]
  },
  {
   "cell_type": "code",
   "execution_count": 20,
   "id": "cd351afc-2a7d-48dc-8891-9f6267692bb7",
   "metadata": {},
   "outputs": [
    {
     "name": "stdout",
     "output_type": "stream",
     "text": [
      "[1, 2, 3, 4, 5, 6, 7, 8, 9, 10, 11, 12, 13, 14, 15, 16, 17, 18, 19, 20, 21, 22, 23, 24, 25]\n"
     ]
    }
   ],
   "source": [
    "l4=list(map(lambda x:x,range(1,26)))\n",
    "print(l4)"
   ]
  },
  {
   "cell_type": "code",
   "execution_count": 21,
   "id": "f2f4b323-2ec5-4621-9dfe-e27b95b8295b",
   "metadata": {},
   "outputs": [],
   "source": [
    "from functools import reduce"
   ]
  },
  {
   "cell_type": "code",
   "execution_count": 22,
   "id": "a0ce0639-5a59-4aa3-9f78-ee2f3bab1b4a",
   "metadata": {},
   "outputs": [
    {
     "name": "stdout",
     "output_type": "stream",
     "text": [
      "product of list containing numbers 1 to 25 15511210043330985984000000\n"
     ]
    }
   ],
   "source": [
    "numbers = reduce(lambda x,y : x*y, l4 )\n",
    "print(\"product of list containing numbers 1 to 25\",numbers)"
   ]
  },
  {
   "cell_type": "markdown",
   "id": "b1b26d7a-9fb1-4d4a-a7a2-b84ffcbace9c",
   "metadata": {},
   "source": [
    "Q5. Write a python program to filter the numbers in a given list that are divisible by 2 and 3 using the filter function. [2, 3, 6, 9, 27, 60, 90, 120, 55, 46]"
   ]
  },
  {
   "cell_type": "markdown",
   "id": "55302ed5-82e4-4f53-9ea6-bf15238523fd",
   "metadata": {},
   "source": [
    "#ANSWER 5"
   ]
  },
  {
   "cell_type": "code",
   "execution_count": 24,
   "id": "6e01a058-db73-4bc7-bebe-c4b4080bc3b3",
   "metadata": {},
   "outputs": [],
   "source": [
    "l5=[2, 3, 6, 9, 27, 60, 90, 120, 55, 46]"
   ]
  },
  {
   "cell_type": "code",
   "execution_count": 25,
   "id": "a26cbc2d-2095-42ce-8adc-fec02ec99a90",
   "metadata": {},
   "outputs": [
    {
     "name": "stdout",
     "output_type": "stream",
     "text": [
      "the numbers which are divisible by 2 and 3 from the given list [6, 60, 90, 120]\n"
     ]
    }
   ],
   "source": [
    "divisible = list(filter(lambda x : x%2==0 and x%3==0, l5))\n",
    "print(\"the numbers which are divisible by 2 and 3 from the given list\",divisible)"
   ]
  },
  {
   "cell_type": "markdown",
   "id": "26634a97-b3a5-40cb-a0ee-c6c1a3d2da34",
   "metadata": {},
   "source": [
    "Q6. Write a python program to find palindromes in the given list of strings using lambda and filter\n",
    "function.\n",
    "['python', 'php', 'aba', 'radar', 'level']"
   ]
  },
  {
   "cell_type": "markdown",
   "id": "cb4e5329-a8a6-4516-8cd1-c307908f08e2",
   "metadata": {},
   "source": [
    "#ANSWER 6"
   ]
  },
  {
   "cell_type": "code",
   "execution_count": 26,
   "id": "c7eea07d-63f1-477e-8700-c1a4ee5900fd",
   "metadata": {},
   "outputs": [],
   "source": [
    "l6=['python', 'php', 'aba', 'radar', 'level']"
   ]
  },
  {
   "cell_type": "code",
   "execution_count": 27,
   "id": "794bc862-b514-411c-a18f-21abc5c7338f",
   "metadata": {},
   "outputs": [
    {
     "name": "stdout",
     "output_type": "stream",
     "text": [
      "palindrome in the given list ['php', 'aba', 'radar', 'level']\n"
     ]
    }
   ],
   "source": [
    "palindrome = list(filter(lambda x : x==x[::-1],l6))\n",
    "print(\"palindrome in the given list\",palindrome)"
   ]
  },
  {
   "cell_type": "code",
   "execution_count": null,
   "id": "b5fab1a4-4da1-457a-b14b-4d6220693ed1",
   "metadata": {},
   "outputs": [],
   "source": []
  }
 ],
 "metadata": {
  "kernelspec": {
   "display_name": "Python 3 (ipykernel)",
   "language": "python",
   "name": "python3"
  },
  "language_info": {
   "codemirror_mode": {
    "name": "ipython",
    "version": 3
   },
   "file_extension": ".py",
   "mimetype": "text/x-python",
   "name": "python",
   "nbconvert_exporter": "python",
   "pygments_lexer": "ipython3",
   "version": "3.10.8"
  }
 },
 "nbformat": 4,
 "nbformat_minor": 5
}
